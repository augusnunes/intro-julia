{
 "cells": [
  {
   "cell_type": "markdown",
   "metadata": {},
   "source": [
    "# Manipulando e Visulizando Dados"
   ]
  },
  {
   "cell_type": "code",
   "execution_count": null,
   "metadata": {},
   "outputs": [],
   "source": [
    "using CSV, DataFrames \n",
    "using StatsBase, Gadfly\n",
    "using Distributions, Random\n",
    "using DataFramesMeta, Chain\n",
    "using Colors, Dates, RDatasets\n",
    "ENV[\"COLUMNS\"] = 900"
   ]
  },
  {
   "cell_type": "code",
   "execution_count": null,
   "metadata": {
    "scrolled": false
   },
   "outputs": [],
   "source": [
    "readdir()"
   ]
  },
  {
   "cell_type": "markdown",
   "metadata": {},
   "source": [
    "## DataFrames.jl"
   ]
  },
  {
   "cell_type": "code",
   "execution_count": null,
   "metadata": {},
   "outputs": [],
   "source": [
    "df = CSV.read(\"iris.csv\", DataFrame);"
   ]
  },
  {
   "cell_type": "code",
   "execution_count": null,
   "metadata": {},
   "outputs": [],
   "source": [
    "summary(df)"
   ]
  },
  {
   "cell_type": "code",
   "execution_count": null,
   "metadata": {},
   "outputs": [],
   "source": [
    "describe(df)"
   ]
  },
  {
   "cell_type": "code",
   "execution_count": null,
   "metadata": {
    "scrolled": false
   },
   "outputs": [],
   "source": [
    "df[[1,2], [:Id, :Species]]"
   ]
  },
  {
   "cell_type": "code",
   "execution_count": null,
   "metadata": {
    "scrolled": true
   },
   "outputs": [],
   "source": [
    "df[1,:]"
   ]
  },
  {
   "cell_type": "markdown",
   "metadata": {},
   "source": [
    "### select() e select!()"
   ]
  },
  {
   "cell_type": "code",
   "execution_count": null,
   "metadata": {
    "scrolled": true
   },
   "outputs": [],
   "source": [
    "select(df, r\"Cm\")"
   ]
  },
  {
   "cell_type": "code",
   "execution_count": null,
   "metadata": {},
   "outputs": [],
   "source": [
    "select(df, r\"Petal\")"
   ]
  },
  {
   "cell_type": "code",
   "execution_count": null,
   "metadata": {
    "scrolled": true
   },
   "outputs": [],
   "source": [
    "select(df, :Id => :id, :Species => :species)"
   ]
  },
  {
   "cell_type": "code",
   "execution_count": null,
   "metadata": {},
   "outputs": [],
   "source": [
    "select(df, :Id => (x -> x.^2) => :id, :Species => :species)"
   ]
  },
  {
   "cell_type": "code",
   "execution_count": null,
   "metadata": {},
   "outputs": [],
   "source": [
    "prop = df |> x->\n",
    "    select(x, r\"Cm\")"
   ]
  },
  {
   "cell_type": "code",
   "execution_count": null,
   "metadata": {},
   "outputs": [],
   "source": [
    "prop[!, 1] *= 8"
   ]
  },
  {
   "cell_type": "code",
   "execution_count": null,
   "metadata": {
    "scrolled": true
   },
   "outputs": [],
   "source": [
    "prop"
   ]
  },
  {
   "cell_type": "markdown",
   "metadata": {},
   "source": [
    "### transform() e transform!()"
   ]
  },
  {
   "cell_type": "code",
   "execution_count": null,
   "metadata": {
    "scrolled": true
   },
   "outputs": [],
   "source": [
    "soma = df |> x ->\n",
    "    select(x, r\"Cm\") |> x ->\n",
    "    transform(x, All()=>+) # Not()"
   ]
  },
  {
   "cell_type": "code",
   "execution_count": null,
   "metadata": {},
   "outputs": [],
   "source": [
    "df |> x ->\n",
    "    select(x, r\"Cm\") |> x ->\n",
    "    transform(x, [:SepalLengthCm, :SepalWidthCm]=> +)"
   ]
  },
  {
   "cell_type": "markdown",
   "metadata": {},
   "source": [
    "## DataFramesMeta"
   ]
  },
  {
   "cell_type": "markdown",
   "metadata": {},
   "source": [
    "Macros \n",
    "- @orderby\n",
    "- @where\n",
    "- @with\n",
    "- @eachrow\n",
    "- @select\n",
    "- @combine\n",
    "- @linq"
   ]
  },
  {
   "cell_type": "markdown",
   "metadata": {},
   "source": [
    "[Dplyr e LINQ vs DataFramesMeta](https://juliadata.github.io/DataFramesMeta.jl/stable/#Comparison-with-dplyr-and-LINQ)"
   ]
  },
  {
   "cell_type": "code",
   "execution_count": null,
   "metadata": {},
   "outputs": [],
   "source": [
    "df |> x ->\n",
    "    @where(x, :Species .== \"Iris-setosa\") |> x -> \n",
    "    select(x, r\"Cm\") |> x ->\n",
    "    @orderby(x, :SepalLengthCm)"
   ]
  },
  {
   "cell_type": "code",
   "execution_count": null,
   "metadata": {
    "scrolled": true
   },
   "outputs": [],
   "source": [
    "@chain df begin\n",
    "    @where(:Species .== \"Iris-setosa\") \n",
    "    select(r\"Cm\")\n",
    "    @orderby(:SepalLengthCm)\n",
    "end"
   ]
  },
  {
   "cell_type": "code",
   "execution_count": null,
   "metadata": {
    "scrolled": true
   },
   "outputs": [],
   "source": [
    "@linq df |>\n",
    "    where(:Species .== \"Iris-setosa\") |>\n",
    "    orderby(:SepalLengthCm) |>\n",
    "    select(:SepalWidthCm) "
   ]
  },
  {
   "cell_type": "code",
   "execution_count": null,
   "metadata": {},
   "outputs": [],
   "source": [
    "let x = 0.0, y = 0.0\n",
    "    @eachrow df begin\n",
    "        if :SepalLengthCm * :SepalWidthCm > 5\n",
    "            x += 1\n",
    "            y += 2\n",
    "        end\n",
    "    end\n",
    "    x, y\n",
    "end"
   ]
  },
  {
   "cell_type": "code",
   "execution_count": null,
   "metadata": {},
   "outputs": [],
   "source": [
    "teste = @eachrow df begin\n",
    "    @newcol colX::Vector{Float64}\n",
    "    :colX = :Species == \"Iris-setosa\" ? :SepalWidthCm * :SepalLengthCm : 0\n",
    "end"
   ]
  },
  {
   "cell_type": "code",
   "execution_count": null,
   "metadata": {
    "scrolled": true
   },
   "outputs": [],
   "source": [
    "last(teste, 10)"
   ]
  },
  {
   "cell_type": "markdown",
   "metadata": {},
   "source": [
    "## Algumas Estatísticas"
   ]
  },
  {
   "cell_type": "code",
   "execution_count": null,
   "metadata": {},
   "outputs": [],
   "source": [
    "mean(df[!,3])"
   ]
  },
  {
   "cell_type": "code",
   "execution_count": null,
   "metadata": {},
   "outputs": [],
   "source": [
    "variation(df[!,4])"
   ]
  },
  {
   "cell_type": "code",
   "execution_count": null,
   "metadata": {},
   "outputs": [],
   "source": [
    "corspearman(df[!,3], df[!,4])"
   ]
  },
  {
   "cell_type": "markdown",
   "metadata": {},
   "source": [
    "# Missing Values"
   ]
  },
  {
   "cell_type": "code",
   "execution_count": null,
   "metadata": {},
   "outputs": [],
   "source": [
    "df = CSV.read(\"titanic.csv\", DataFrame);"
   ]
  },
  {
   "cell_type": "code",
   "execution_count": null,
   "metadata": {
    "scrolled": true
   },
   "outputs": [],
   "source": [
    "df"
   ]
  },
  {
   "cell_type": "code",
   "execution_count": null,
   "metadata": {},
   "outputs": [],
   "source": [
    "first(df,5)"
   ]
  },
  {
   "cell_type": "code",
   "execution_count": null,
   "metadata": {},
   "outputs": [],
   "source": [
    "describe(df)"
   ]
  },
  {
   "cell_type": "code",
   "execution_count": null,
   "metadata": {
    "scrolled": true
   },
   "outputs": [],
   "source": [
    "select!(df, Not(:Cabin))"
   ]
  },
  {
   "cell_type": "code",
   "execution_count": null,
   "metadata": {},
   "outputs": [],
   "source": [
    "describe(df)"
   ]
  },
  {
   "cell_type": "code",
   "execution_count": null,
   "metadata": {
    "scrolled": true
   },
   "outputs": [],
   "source": [
    "df.Age[ismissing.(df.Age)] .= begin \n",
    "    df |>\n",
    "    dropmissing |> x->\n",
    "    mean(x.Age)\n",
    "end;\n",
    "# @transform(df, Age=replace(:Age, missing =>35))\n",
    "# df.Age = coalesce.(df.Age, 35)"
   ]
  },
  {
   "cell_type": "code",
   "execution_count": null,
   "metadata": {},
   "outputs": [],
   "source": [
    "describe(df)"
   ]
  },
  {
   "cell_type": "code",
   "execution_count": null,
   "metadata": {},
   "outputs": [],
   "source": [
    "dropmissing!(df)"
   ]
  },
  {
   "cell_type": "code",
   "execution_count": null,
   "metadata": {},
   "outputs": [],
   "source": [
    "describe(df)"
   ]
  },
  {
   "cell_type": "markdown",
   "metadata": {},
   "source": [
    "# Gadfly"
   ]
  },
  {
   "cell_type": "code",
   "execution_count": null,
   "metadata": {},
   "outputs": [],
   "source": [
    "# layer\n",
    "    # Dados\n",
    "    # Aesthetics\n",
    "    # Geometria\n",
    "    # Colors\n",
    "# Título e rótulos\n",
    "# Scale, cores, Guides...\n",
    "# Temas"
   ]
  },
  {
   "cell_type": "code",
   "execution_count": null,
   "metadata": {
    "scrolled": false
   },
   "outputs": [],
   "source": [
    "plot(df.Age)"
   ]
  },
  {
   "cell_type": "code",
   "execution_count": null,
   "metadata": {},
   "outputs": [],
   "source": [
    "plot(x=df.Age, y=df.Age)"
   ]
  },
  {
   "cell_type": "code",
   "execution_count": null,
   "metadata": {},
   "outputs": [],
   "source": [
    "plot(df, x=:Age, y=:Survived)"
   ]
  },
  {
   "cell_type": "code",
   "execution_count": null,
   "metadata": {},
   "outputs": [],
   "source": [
    "plot(df, x=:Survived, Geom.histogram)"
   ]
  },
  {
   "cell_type": "code",
   "execution_count": null,
   "metadata": {
    "scrolled": false
   },
   "outputs": [],
   "source": [
    "iris = CSV.read(\"iris.csv\", DataFrame);\n",
    "describe(iris)"
   ]
  },
  {
   "cell_type": "code",
   "execution_count": null,
   "metadata": {},
   "outputs": [],
   "source": [
    "plot(iris, x=:PetalLengthCm, y=:PetalWidthCm)"
   ]
  },
  {
   "cell_type": "code",
   "execution_count": null,
   "metadata": {
    "scrolled": true
   },
   "outputs": [],
   "source": [
    "plot(iris, x=:PetalLengthCm, y=:PetalWidthCm, color=:Species)"
   ]
  },
  {
   "cell_type": "code",
   "execution_count": null,
   "metadata": {
    "scrolled": true
   },
   "outputs": [],
   "source": [
    "plot(iris, x=:PetalLengthCm, y=:PetalWidthCm, color=:SepalLengthCm)"
   ]
  },
  {
   "cell_type": "code",
   "execution_count": null,
   "metadata": {
    "scrolled": false
   },
   "outputs": [],
   "source": [
    "Gadfly.with_theme(:dark) do\n",
    "    plot(iris, x=:PetalLengthCm, y=:PetalWidthCm, color=:Species)\n",
    "end"
   ]
  },
  {
   "cell_type": "code",
   "execution_count": null,
   "metadata": {},
   "outputs": [],
   "source": [
    "set_default_plot_size(21cm, 12cm)\n",
    "plot(iris, x=:PetalLengthCm, y=:PetalWidthCm, shape=:Species)"
   ]
  },
  {
   "cell_type": "code",
   "execution_count": null,
   "metadata": {},
   "outputs": [],
   "source": [
    "plot(iris, x=:PetalLengthCm, y=:PetalWidthCm, shape=:Species, color=:SepalLengthCm)"
   ]
  },
  {
   "cell_type": "code",
   "execution_count": null,
   "metadata": {
    "scrolled": false
   },
   "outputs": [],
   "source": [
    "x = 0:0.01:10\n",
    "p = plot(x=x, y=cos.(x), Geom.line, Theme(default_color=colorant\"purple\"),\n",
    "    layer(x=x, y=sin.(x), Geom.line, Theme(default_color=colorant\"red\")))"
   ]
  },
  {
   "cell_type": "code",
   "execution_count": null,
   "metadata": {},
   "outputs": [],
   "source": [
    "x1 = rand(Normal(1.0),100,2)\n",
    "x2 = rand(Normal(4.0),100,2);"
   ]
  },
  {
   "cell_type": "code",
   "execution_count": null,
   "metadata": {
    "scrolled": false
   },
   "outputs": [],
   "source": [
    "plot(layer(x=x1[:,1],y=x1[:,2], Theme(default_color=colorant\"purple\")),\n",
    "    layer(x=x2[:,1],y=x2[:,2], Theme(default_color=colorant\"red\")),\n",
    "    Guide.manual_color_key(\"Normal dists\", # título da legenda\n",
    "                        [\"Normal(μ=1)\",\"Normal(μ=4)\"], # nomes das keys\n",
    "                        [\"purple\", \"red\"]))  # cores"
   ]
  },
  {
   "cell_type": "code",
   "execution_count": null,
   "metadata": {},
   "outputs": [],
   "source": [
    "p1 = plot(iris, x=:PetalLengthCm, y=:PetalWidthCm, shape=:Species)\n",
    "p2 = plot(iris, x=:PetalLengthCm, y=:PetalWidthCm, shape=:Species, color=:Species)\n",
    "\n",
    "hstack(p1,p2)"
   ]
  },
  {
   "cell_type": "code",
   "execution_count": null,
   "metadata": {},
   "outputs": [],
   "source": [
    "p1 = plot(iris, x=:PetalLengthCm, y=:PetalWidthCm, shape=:Species)\n",
    "p2 = plot(iris, x=:PetalLengthCm, y=:PetalWidthCm, shape=:Species, color=:Species)\n",
    "\n",
    "vstack(p1,p2)"
   ]
  },
  {
   "cell_type": "code",
   "execution_count": null,
   "metadata": {},
   "outputs": [],
   "source": [
    "p1 = plot(iris, x=:PetalLengthCm, y=:PetalWidthCm, shape=:Species)\n",
    "p2 = plot(iris, x=:PetalLengthCm, y=:PetalWidthCm, shape=:Species, color=:Species)\n",
    "\n",
    "hstack(vstack(p1,p2),vstack(p1,p2))"
   ]
  },
  {
   "cell_type": "code",
   "execution_count": null,
   "metadata": {},
   "outputs": [],
   "source": [
    "p1 = plot(iris, x=:PetalLengthCm, y=:PetalWidthCm, shape=:Species)\n",
    "p2 = plot(iris, x=:PetalLengthCm, y=:PetalWidthCm, shape=:Species, color=:Species)\n",
    "\n",
    "gridstack([p1 p2; p2 p1])"
   ]
  },
  {
   "cell_type": "code",
   "execution_count": null,
   "metadata": {},
   "outputs": [],
   "source": [
    "plot(iris, x=:PetalLengthCm, y=:PetalWidthCm, shape=:Species, \n",
    "    color=:Species,\n",
    "    Guide.title(\"Petal\"),\n",
    "    Guide.xlabel(\"Length (cm)\"),\n",
    "    Guide.ylabel(\"Width (cm)\"))"
   ]
  },
  {
   "cell_type": "code",
   "execution_count": null,
   "metadata": {},
   "outputs": [],
   "source": [
    "# mudando as escalas"
   ]
  },
  {
   "cell_type": "code",
   "execution_count": null,
   "metadata": {},
   "outputs": [],
   "source": [
    "x = 1:100\n",
    "y = x.^3;"
   ]
  },
  {
   "cell_type": "code",
   "execution_count": null,
   "metadata": {
    "scrolled": false
   },
   "outputs": [],
   "source": [
    "plot(x=x, y=y, Geom.point, Scale.y_log10, Scale.x_log10)"
   ]
  },
  {
   "cell_type": "code",
   "execution_count": null,
   "metadata": {
    "scrolled": false
   },
   "outputs": [],
   "source": [
    "plot(x=x, y=y, Geom.line, Scale.y_log10, Scale.x_log10)"
   ]
  },
  {
   "cell_type": "code",
   "execution_count": null,
   "metadata": {
    "scrolled": false
   },
   "outputs": [],
   "source": [
    "p = plot(df, x=:Age, \n",
    "    Geom.histogram(bincount=10))"
   ]
  },
  {
   "cell_type": "code",
   "execution_count": null,
   "metadata": {},
   "outputs": [],
   "source": [
    "p = Gadfly.plot(df, x=:Age, \n",
    "    Geom.histogram())"
   ]
  },
  {
   "cell_type": "code",
   "execution_count": null,
   "metadata": {
    "scrolled": false
   },
   "outputs": [],
   "source": [
    "p = plot(iris, x=:Species, y=:SepalLengthCm, Geom.violin, color=:Species)"
   ]
  },
  {
   "cell_type": "code",
   "execution_count": null,
   "metadata": {
    "scrolled": false
   },
   "outputs": [],
   "source": [
    "p = plot(iris, x=:Species, y=:SepalLengthCm, Geom.boxplot, color=:Species)"
   ]
  },
  {
   "cell_type": "code",
   "execution_count": null,
   "metadata": {},
   "outputs": [],
   "source": [
    "x = 0.0:0.1:2.0\n",
    "y = x.^2+rand(length(x));"
   ]
  },
  {
   "cell_type": "code",
   "execution_count": null,
   "metadata": {},
   "outputs": [],
   "source": [
    "p1 = plot(x=x, y=y, Geom.point, Geom.smooth(method=:loess,smoothing=0.9))\n",
    "p2 = plot(x=x, y=y, Geom.point, Geom.smooth(method=:loess,smoothing=0.1))\n",
    "hstack(p1,p2)"
   ]
  },
  {
   "cell_type": "code",
   "execution_count": null,
   "metadata": {},
   "outputs": [],
   "source": [
    "Dp = dataset(\"ggplot2\",\"presidential\")[3:end,:]\n",
    "De = dataset(\"ggplot2\",\"economics\")\n",
    "De.Unemploy /= 10^3;"
   ]
  },
  {
   "cell_type": "code",
   "execution_count": null,
   "metadata": {},
   "outputs": [],
   "source": [
    "plot(De, x=:Date, y=:Unemploy, Geom.line,\n",
    "    layer(Dp, xmin=:Start, xmax=:End, Geom.vband, color=:Party, alpha=[0.7]),\n",
    "    Scale.color_discrete_manual(\"deepskyblue\", \"lightcoral\"),\n",
    "    Coord.cartesian(xmin=Date(\"1965-01-01\"), ymax=12),\n",
    "    Guide.xlabel(\"Time\"), Guide.ylabel(\"Unemployment (x10³)\"), Guide.colorkey(title=\"\"),\n",
    "    Theme(default_color=\"black\", key_position=:top))"
   ]
  },
  {
   "cell_type": "code",
   "execution_count": null,
   "metadata": {},
   "outputs": [],
   "source": [
    "x = 0:0.1:5\n",
    "y = 2 .* x .+5 .+ rand(Normal(), length(x));"
   ]
  },
  {
   "cell_type": "code",
   "execution_count": null,
   "metadata": {},
   "outputs": [],
   "source": [
    "p = plot(x=x, y=y, Geom.point)"
   ]
  },
  {
   "cell_type": "code",
   "execution_count": null,
   "metadata": {
    "scrolled": false
   },
   "outputs": [],
   "source": [
    "push!(p, layer(x=x, y=y, intercept=[5], slope=[2],Geom.abline(color=\"red\", style=:dash)))"
   ]
  }
 ],
 "metadata": {
  "kernelspec": {
   "display_name": "Julia 1.4.1",
   "language": "julia",
   "name": "julia-1.4"
  },
  "language_info": {
   "file_extension": ".jl",
   "mimetype": "application/julia",
   "name": "julia",
   "version": "1.4.1"
  }
 },
 "nbformat": 4,
 "nbformat_minor": 4
}
